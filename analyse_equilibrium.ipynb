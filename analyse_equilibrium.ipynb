{
 "cells": [
  {
   "cell_type": "code",
   "execution_count": 1,
   "id": "59ee4c1d",
   "metadata": {},
   "outputs": [],
   "source": [
    "import matplotlib\n",
    "import numpy as np\n",
    "\n",
    "g_fold = 1\n",
    "g_h = 1\n",
    "\n",
    "w = np.exp(g_h+g_fold)\n",
    "v = np.exp(g_fold)\n",
    "u = 1\n",
    "\n",
    "s = w/u\n",
    "a = v/u\n",
    "\n",
    "mat = np.matrix([[w, v, 0], [0, 0, u], [v, v, u]])"
   ]
  },
  {
   "cell_type": "code",
   "execution_count": 70,
   "id": "3f16917f",
   "metadata": {},
   "outputs": [
    {
     "ename": "SyntaxError",
     "evalue": "invalid syntax (1942806995.py, line 1)",
     "output_type": "error",
     "traceback": [
      "\u001b[0;36m  File \u001b[0;32m\"/tmp/ipykernel_225266/1942806995.py\"\u001b[0;36m, line \u001b[0;32m1\u001b[0m\n\u001b[0;31m    =n = 7\u001b[0m\n\u001b[0m    ^\u001b[0m\n\u001b[0;31mSyntaxError\u001b[0m\u001b[0;31m:\u001b[0m invalid syntax\n"
     ]
    }
   ],
   "source": [
    "=n = 7\n",
    "(5*0.8**(n-1) + 4*0.7**(n-1))/(5*0.8**n + 4*0.7**n)"
   ]
  },
  {
   "cell_type": "code",
   "execution_count": 2,
   "id": "4db84ba4",
   "metadata": {},
   "outputs": [
    {
     "data": {
      "text/plain": [
       "array([ 7.54729334,  1.78447857, -0.94271582])"
      ]
     },
     "execution_count": 2,
     "metadata": {},
     "output_type": "execute_result"
    }
   ],
   "source": [
    "eigval,eigvec = np.linalg.eig(mat)\n",
    "x = max(np.real(eigval))\n",
    "eigval"
   ]
  },
  {
   "cell_type": "code",
   "execution_count": 78,
   "id": "dfc9c877",
   "metadata": {},
   "outputs": [
    {
     "name": "stdout",
     "output_type": "stream",
     "text": [
      "0.09153359649074089\n",
      "0.11004590748779486\n"
     ]
    }
   ],
   "source": [
    "U = u/(x-u)\n",
    "dU = -u/((x-u)**2)\n",
    "mxdU = -x*dU\n",
    "V = v/x*(1+v/(x-w))\n",
    "dV = -v/x**2*(1+v/(x-w))-v**2/(x*(x-w)**2)\n",
    "mxdV = -x*dV\n",
    "\n",
    "coil_frac_est = 1-0.5*(1+ (s - 1)/( (s-1)**2 + 4*a/s )**0.5)\n",
    "helix_frac_ex = 1/(1+(V*mxdU)/(U*mxdV))\n",
    "coil_frac_ex = 1-helix_frac_ex\n",
    "\n",
    "print(coil_frac_est)\n",
    "print(coil_frac_ex)"
   ]
  },
  {
   "cell_type": "code",
   "execution_count": 91,
   "id": "1cdaebbe",
   "metadata": {},
   "outputs": [],
   "source": [
    "num = np.matrix([[0,0,1]])*(mat**4)*np.matrix([[0],[1],[1]])\n",
    "den = np.matrix([[0,0,1]])*(mat**5)*np.matrix([[0],[1],[1]])"
   ]
  },
  {
   "cell_type": "code",
   "execution_count": 92,
   "id": "f5c72f00",
   "metadata": {},
   "outputs": [
    {
     "data": {
      "text/plain": [
       "0.35643639484745543"
      ]
     },
     "execution_count": 92,
     "metadata": {},
     "output_type": "execute_result"
    }
   ],
   "source": [
    "float(num/den)"
   ]
  },
  {
   "cell_type": "code",
   "execution_count": 93,
   "id": "444f60b9",
   "metadata": {},
   "outputs": [
    {
     "data": {
      "text/plain": [
       "0.34100124770505824"
      ]
     },
     "execution_count": 93,
     "metadata": {},
     "output_type": "execute_result"
    }
   ],
   "source": [
    "1/x"
   ]
  },
  {
   "cell_type": "code",
   "execution_count": 21,
   "id": "b0b2f292",
   "metadata": {},
   "outputs": [
    {
     "data": {
      "text/plain": [
       "39.375877460200684"
      ]
     },
     "execution_count": 21,
     "metadata": {},
     "output_type": "execute_result"
    }
   ],
   "source": [
    "test = v*x**(-1)\n",
    "for j in range(2,300):\n",
    "    test = test+j*(v**2)*(w**(j-2))*x**(-j)\n",
    "test"
   ]
  },
  {
   "cell_type": "code",
   "execution_count": 22,
   "id": "729fdfc0",
   "metadata": {},
   "outputs": [
    {
     "data": {
      "text/plain": [
       "0.2536497573628061"
      ]
     },
     "execution_count": 22,
     "metadata": {},
     "output_type": "execute_result"
    }
   ],
   "source": [
    "test = u*x**(-1)\n",
    "for i in range(2,800):\n",
    "    test+i*(u**i)*x**(-i)\n",
    "test"
   ]
  },
  {
   "cell_type": "code",
   "execution_count": 23,
   "id": "e7d74706",
   "metadata": {},
   "outputs": [
    {
     "data": {
      "text/plain": [
       "0.3398535203345636"
      ]
     },
     "execution_count": 23,
     "metadata": {},
     "output_type": "execute_result"
    }
   ],
   "source": [
    "test = u*x**(-1)\n",
    "for i in range(2,100000):\n",
    "    test = test+(u**i)*x**(-i)\n",
    "test"
   ]
  },
  {
   "cell_type": "code",
   "execution_count": 149,
   "id": "63c1d7f0",
   "metadata": {},
   "outputs": [
    {
     "data": {
      "text/plain": [
       "[2, 3, 4, 5, 6, 7, 8, 9]"
      ]
     },
     "execution_count": 149,
     "metadata": {},
     "output_type": "execute_result"
    }
   ],
   "source": [
    "f = [x for x in range(2,10)]\n",
    "f"
   ]
  },
  {
   "cell_type": "code",
   "execution_count": 83,
   "id": "c5756428",
   "metadata": {},
   "outputs": [
    {
     "data": {
      "text/plain": [
       "4"
      ]
     },
     "execution_count": 83,
     "metadata": {},
     "output_type": "execute_result"
    }
   ],
   "source": [
    "2**2"
   ]
  },
  {
   "cell_type": "code",
   "execution_count": null,
   "id": "6fbe32fd",
   "metadata": {},
   "outputs": [],
   "source": []
  }
 ],
 "metadata": {
  "kernelspec": {
   "display_name": "Python 3 (ipykernel)",
   "language": "python",
   "name": "python3"
  },
  "language_info": {
   "codemirror_mode": {
    "name": "ipython",
    "version": 3
   },
   "file_extension": ".py",
   "mimetype": "text/x-python",
   "name": "python",
   "nbconvert_exporter": "python",
   "pygments_lexer": "ipython3",
   "version": "3.7.13"
  }
 },
 "nbformat": 4,
 "nbformat_minor": 5
}
