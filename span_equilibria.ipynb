{
 "cells": [
  {
   "cell_type": "code",
   "execution_count": 69,
   "id": "59ee4c1d",
   "metadata": {},
   "outputs": [],
   "source": [
    "import matplotlib\n",
    "import numpy as np\n",
    "import matplotlib.pyplot as plt\n",
    "\n",
    "incr = 0.2;\n",
    "final_param = 10;\n",
    "last = int((final_param+incr)/incr)\n",
    "\n",
    "eigval_list = []\n",
    "maximum = 0\n",
    "error_mat = np.zeros((last,last))\n",
    "\n",
    "for i in range(0,last):\n",
    "    for j in range(0,last):\n",
    "        g_fold = incr*i\n",
    "        g_h = incr*j\n",
    "\n",
    "        w = np.exp(g_h+g_fold)\n",
    "        v = np.exp(g_fold)\n",
    "        u = 1\n",
    "\n",
    "        s = w/u\n",
    "        a = v/u\n",
    "\n",
    "        mat = np.matrix([[w, v, 0], [0, 0, u], [v, v, u]])\n",
    "        eigval,eigvec = np.linalg.eig(mat)\n",
    "        x = max(np.real(eigval))\n",
    "        \n",
    "        eigval_list.append(eigval[0])\n",
    "        eigval_list.append(eigval[1])\n",
    "        eigval_list.append(eigval[2])\n",
    "        \n",
    "        \n",
    "        num = np.matrix([[0,0,1]])*(mat**10)*np.matrix([[0],[1],[1]])\n",
    "        den = np.matrix([[0,0,1]])*(mat**11)*np.matrix([[0],[1],[1]])\n",
    "        \n",
    "        error_mat[i][j] = abs((float(num/den) - 1/x)/(1/x))\n",
    "        if abs((float(num/den) - 1/x)/(1/x)) > maximum:\n",
    "            maximum = abs((float(num/den) - 1/x)/(1/x))\n",
    "            max_idx_i = i\n",
    "            max_idx_j = j"
   ]
  },
  {
   "cell_type": "code",
   "execution_count": 70,
   "id": "4db84ba4",
   "metadata": {},
   "outputs": [
    {
     "name": "stdout",
     "output_type": "stream",
     "text": [
      "0.0\n",
      "1.0\n"
     ]
    },
    {
     "data": {
      "image/png": "[encoded data removed]",
      "text/plain": [
       "<Figure size 432x288 with 1 Axes>"
      ]
     },
     "metadata": {
      "needs_background": "light"
     },
     "output_type": "display_data"
    }
   ],
   "source": [
    "fig, ax = plt.subplots()\n",
    "im = ax.matshow(error_mat, cmap=plt.cm.Blues)\n",
    "\n",
    "print(incr*max_idx_i)\n",
    "print(incr*max_idx_j)"
   ]
  },
  {
   "cell_type": "code",
   "execution_count": 62,
   "id": "b11a72d4",
   "metadata": {},
   "outputs": [
    {
     "data": {
      "text/plain": [
       "(array([10201.,     0., 10201.,     0.,     0.,     0.,     0.,     0.,\n",
       "         3112.,  7089.]),\n",
       " array([-1.03527627, -0.01664025,  1.00199577,  2.02063178,  3.0392678 ,\n",
       "         4.05790382,  5.07653984,  6.09517586,  7.11381187,  8.13244789,\n",
       "         9.15108391]),\n",
       " <BarContainer object of 10 artists>)"
      ]
     },
     "execution_count": 62,
     "metadata": {},
     "output_type": "execute_result"
    },
    {
     "data": {
      "image/png": "[encoded data removed]",
      "text/plain": [
       "<Figure size 432x288 with 1 Axes>"
      ]
     },
     "metadata": {
      "needs_background": "light"
     },
     "output_type": "display_data"
    }
   ],
   "source": [
    "incr = 0.001;\n",
    "first_param = 1\n",
    "final_param = 0.1;\n",
    "last = int((final_param+incr)/incr)\n",
    "\n",
    "eigval_list = []\n",
    "\n",
    "error_mat = np.zeros((last,last))\n",
    "\n",
    "for i in range(0,last):\n",
    "    for j in range(0,last):\n",
    "        g_fold = first_param+incr*i\n",
    "        g_h = first_param+incr*j\n",
    "\n",
    "        w = np.exp(g_h+g_fold)\n",
    "        v = np.exp(g_fold)\n",
    "        u = 1\n",
    "\n",
    "        s = w/u\n",
    "        a = v/u\n",
    "\n",
    "        mat = np.matrix([[w, v, 0], [0, 0, u], [v, v, u]])\n",
    "        eigval,eigvec = np.linalg.eig(mat)\n",
    "        x = max(np.real(eigval))\n",
    "        \n",
    "        eigval_list.append(eigval[0])\n",
    "        eigval_list.append(eigval[1])\n",
    "        eigval_list.append(eigval[2])\n",
    "        \n",
    "        \n",
    "        num = np.matrix([[0,0,1]])*(mat**5)*np.matrix([[0],[1],[1]])\n",
    "        den = np.matrix([[0,0,1]])*(mat**6)*np.matrix([[0],[1],[1]])\n",
    "        \n",
    "        error_mat[i][j] = (float(num/den) - 1/x)/(1/x)\n",
    "\n",
    "\n",
    "plt.hist(eigval_list)"
   ]
  },
  {
   "cell_type": "code",
   "execution_count": 59,
   "id": "dfc9c877",
   "metadata": {},
   "outputs": [
    {
     "name": "stdout",
     "output_type": "stream",
     "text": [
      "0.008775662273202922\n",
      "0.02440940094226096\n"
     ]
    }
   ],
   "source": [
    "U = u/(x-u)\n",
    "dU = -u/((x-u)**2)\n",
    "mxdU = -x*dU\n",
    "V = v/x*(1+v/(x-w))\n",
    "dV = -v/x**2*(1+v/(x-w))-v**2/(x*(x-w)**2)\n",
    "mxdV = -x*dV\n",
    "\n",
    "coil_frac_est = 1-0.5*(1+ (s - 1)/( (s-1)**2 + 4*a/s )**0.5)\n",
    "helix_frac_ex = 1/(1+(V*mxdU)/(U*mxdV))\n",
    "coil_frac_ex = 1-helix_frac_ex\n",
    "\n",
    "print(coil_frac_est)\n",
    "print(coil_frac_ex)"
   ]
  },
  {
   "cell_type": "code",
   "execution_count": 36,
   "id": "6d7a6510",
   "metadata": {},
   "outputs": [],
   "source": [
    "num = np.matrix([[0,0,1]])*(mat**2)*np.matrix([[0],[1],[1]])\n",
    "den = np.matrix([[0,0,1]])*(mat**3)*np.matrix([[0],[1],[1]])"
   ]
  },
  {
   "cell_type": "code",
   "execution_count": 3,
   "id": "98b6a52e",
   "metadata": {},
   "outputs": [
    {
     "name": "stderr",
     "output_type": "stream",
     "text": [
      "/home/brandon/anaconda3/lib/python3.7/site-packages/ipykernel_launcher.py:1: DeprecationWarning: `np.float` is a deprecated alias for the builtin `float`. To silence this warning, use `float` by itself. Doing this will not modify any behavior and is safe. If you specifically wanted the numpy scalar type, use `np.float64` here.\n",
      "Deprecated in NumPy 1.20; for more details and guidance: https://numpy.org/devdocs/release/1.20.0-notes.html#deprecations\n",
      "  \"\"\"Entry point for launching an IPython kernel.\n"
     ]
    },
    {
     "ename": "NameError",
     "evalue": "name 'num' is not defined",
     "output_type": "error",
     "traceback": [
      "\u001b[0;31m---------------------------------------------------------------------------\u001b[0m",
      "\u001b[0;31mNameError\u001b[0m                                 Traceback (most recent call last)",
      "\u001b[0;32m/tmp/ipykernel_231804/2130263125.py\u001b[0m in \u001b[0;36m<module>\u001b[0;34m\u001b[0m\n\u001b[0;32m----> 1\u001b[0;31m \u001b[0mnp\u001b[0m\u001b[0;34m.\u001b[0m\u001b[0mfloat\u001b[0m\u001b[0;34m(\u001b[0m\u001b[0mnum\u001b[0m\u001b[0;34m[\u001b[0m\u001b[0;36m0\u001b[0m\u001b[0;34m]\u001b[0m\u001b[0;34m[\u001b[0m\u001b[0;36m0\u001b[0m\u001b[0;34m]\u001b[0m\u001b[0;34m/\u001b[0m\u001b[0mden\u001b[0m\u001b[0;34m[\u001b[0m\u001b[0;36m0\u001b[0m\u001b[0;34m]\u001b[0m\u001b[0;34m[\u001b[0m\u001b[0;36m0\u001b[0m\u001b[0;34m]\u001b[0m\u001b[0;34m)\u001b[0m\u001b[0;34m\u001b[0m\u001b[0;34m\u001b[0m\u001b[0m\n\u001b[0m",
      "\u001b[0;31mNameError\u001b[0m: name 'num' is not defined"
     ]
    }
   ],
   "source": [
    "np.float(num[0][0]/den[0][0])"
   ]
  },
  {
   "cell_type": "code",
   "execution_count": 14,
   "id": "444f60b9",
   "metadata": {},
   "outputs": [
    {
     "data": {
      "text/plain": [
       "0.3599556818069213"
      ]
     },
     "execution_count": 14,
     "metadata": {},
     "output_type": "execute_result"
    }
   ],
   "source": [
    "1/x"
   ]
  },
  {
   "cell_type": "code",
   "execution_count": 21,
   "id": "b0b2f292",
   "metadata": {},
   "outputs": [
    {
     "data": {
      "text/plain": [
       "39.375877460200684"
      ]
     },
     "execution_count": 21,
     "metadata": {},
     "output_type": "execute_result"
    }
   ],
   "source": [
    "test = v*x**(-1)\n",
    "for j in range(2,300):\n",
    "    test = test+j*(v**2)*(w**(j-2))*x**(-j)\n",
    "test"
   ]
  },
  {
   "cell_type": "code",
   "execution_count": 22,
   "id": "729fdfc0",
   "metadata": {},
   "outputs": [
    {
     "data": {
      "text/plain": [
       "0.2536497573628061"
      ]
     },
     "execution_count": 22,
     "metadata": {},
     "output_type": "execute_result"
    }
   ],
   "source": [
    "test = u*x**(-1)\n",
    "for i in range(2,800):\n",
    "    test+i*(u**i)*x**(-i)\n",
    "test"
   ]
  },
  {
   "cell_type": "code",
   "execution_count": 23,
   "id": "e7d74706",
   "metadata": {},
   "outputs": [
    {
     "data": {
      "text/plain": [
       "0.3398535203345636"
      ]
     },
     "execution_count": 23,
     "metadata": {},
     "output_type": "execute_result"
    }
   ],
   "source": [
    "test = u*x**(-1)\n",
    "for i in range(2,100000):\n",
    "    test = test+(u**i)*x**(-i)\n",
    "test"
   ]
  },
  {
   "cell_type": "code",
   "execution_count": 149,
   "id": "63c1d7f0",
   "metadata": {},
   "outputs": [
    {
     "data": {
      "text/plain": [
       "[2, 3, 4, 5, 6, 7, 8, 9]"
      ]
     },
     "execution_count": 149,
     "metadata": {},
     "output_type": "execute_result"
    }
   ],
   "source": [
    "f = [x for x in range(2,10)]\n",
    "f"
   ]
  },
  {
   "cell_type": "code",
   "execution_count": 83,
   "id": "c5756428",
   "metadata": {},
   "outputs": [
    {
     "data": {
      "text/plain": [
       "4"
      ]
     },
     "execution_count": 83,
     "metadata": {},
     "output_type": "execute_result"
    }
   ],
   "source": [
    "2**2"
   ]
  },
  {
   "cell_type": "code",
   "execution_count": null,
   "id": "6fbe32fd",
   "metadata": {},
   "outputs": [],
   "source": []
  }
 ],
 "metadata": {
  "kernelspec": {
   "display_name": "Python 3 (ipykernel)",
   "language": "python",
   "name": "python3"
  },
  "language_info": {
   "codemirror_mode": {
    "name": "ipython",
    "version": 3
   },
   "file_extension": ".py",
   "mimetype": "text/x-python",
   "name": "python",
   "nbconvert_exporter": "python",
   "pygments_lexer": "ipython3",
   "version": "3.7.13"
  }
 },
 "nbformat": 4,
 "nbformat_minor": 5
}
